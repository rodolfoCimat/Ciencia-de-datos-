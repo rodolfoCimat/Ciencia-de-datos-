{
 "cells": [
  {
   "cell_type": "code",
   "execution_count": 1,
   "id": "9373a0f0",
   "metadata": {},
   "outputs": [],
   "source": [
    "using StatsBase, Distributions, DataFrames, PyPlot, LinearAlgebra, Statistics, Random, SpecialFunctions, BigCombinatorics, Combinatorics"
   ]
  },
  {
   "cell_type": "code",
   "execution_count": 37,
   "id": "87eebdb8",
   "metadata": {},
   "outputs": [],
   "source": [
    "n = 1000\n",
    "k = 10;"
   ]
  },
  {
   "cell_type": "markdown",
   "id": "7413c99d",
   "metadata": {},
   "source": [
    "Approximation when $n$ is large: $\\frac{k^n}{\\Gamma(k+1)}$"
   ]
  },
  {
   "cell_type": "code",
   "execution_count": 38,
   "id": "c93371e3",
   "metadata": {},
   "outputs": [
    {
     "data": {
      "text/plain": [
       "Inf"
      ]
     },
     "execution_count": 38,
     "metadata": {},
     "output_type": "execute_result"
    }
   ],
   "source": [
    "r = k/(gamma(k+1)^(1/n)) \n",
    "r^n"
   ]
  },
  {
   "cell_type": "markdown",
   "id": "0b63ce1c",
   "metadata": {},
   "source": [
    "Formula for exact calculation: \n",
    "$S(n,k) = \\frac{1}{k!}\\sum_{j = 1}^{k}\\left[(-1)^{k-j}\\binom{k}{j}j^n\\right]$ "
   ]
  },
  {
   "cell_type": "code",
   "execution_count": 35,
   "id": "62a837b9",
   "metadata": {},
   "outputs": [
    {
     "data": {
      "text/plain": [
       "2755731922398589065255731922398589065255731917581924460640841022762415621790507687034109106494755892393523239684220474502271428832753012973571717030731909532291599749144113379982863793843177002018276990645186003191418936645880147240191016770014335843685757340510871136637333267121879882804714131146951655275793011824842983266719574390229468827881246706809404073351155347883471307293489967604986287582355295294026333307388775424181500107680612698191552609604970175544459927715711462172484389554564451572536659235580694930111124204642360853835932538200761932141101223619762858291087479073288967779528412543962831663681130624889650079726417038403769385696472638270748061645685081709401449060530947122984572484985093829149172944395934948910868974868752000234019271871730213229219395341285732071618339324933270725103782640004076710437301799410230446974482548630591919219207057556122063035816722396439507138291876817485027944190336677159592414336738781993023186143198656901144735405892623449893975880"
      ]
     },
     "execution_count": 35,
     "metadata": {},
     "output_type": "execute_result"
    }
   ],
   "source": [
    "Stirling2(n,k)"
   ]
  },
  {
   "cell_type": "code",
   "execution_count": null,
   "id": "0b685c5c",
   "metadata": {},
   "outputs": [],
   "source": []
  }
 ],
 "metadata": {
  "kernelspec": {
   "display_name": "Julia 1.6.3",
   "language": "julia",
   "name": "julia-1.6"
  },
  "language_info": {
   "file_extension": ".jl",
   "mimetype": "application/julia",
   "name": "julia",
   "version": "1.6.3"
  }
 },
 "nbformat": 4,
 "nbformat_minor": 5
}
