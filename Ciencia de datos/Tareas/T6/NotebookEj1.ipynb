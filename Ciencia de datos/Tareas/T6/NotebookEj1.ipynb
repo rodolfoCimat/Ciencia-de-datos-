{
 "cells": [
  {
   "cell_type": "code",
   "execution_count": 1,
   "id": "a11a5c41",
   "metadata": {
    "scrolled": false
   },
   "outputs": [],
   "source": [
    "using StatsBase, Distributions, DataFrames, PyPlot, LinearAlgebra, Gtk, CSV, Statistics, Seaborn, KernelDensity, Random"
   ]
  },
  {
   "cell_type": "code",
   "execution_count": 2,
   "id": "3d3efa01",
   "metadata": {},
   "outputs": [
    {
     "data": {
      "text/plain": [
       "\"C:\\\\Users\\\\LENOVO\\\\Documents\\\\Emmanuel\\\\CD\\\\op.txt\""
      ]
     },
     "execution_count": 2,
     "metadata": {},
     "output_type": "execute_result"
    }
   ],
   "source": [
    "filename = open_dialog(\"My Open dialog\")"
   ]
  },
  {
   "cell_type": "code",
   "execution_count": 51,
   "id": "973aa8e4",
   "metadata": {},
   "outputs": [
    {
     "data": {
      "text/html": [
       "<div class=\"data-frame\"><p>5 rows × 7 columns</p><table class=\"data-frame\"><thead><tr><th></th><th>variable</th><th>mean</th><th>min</th><th>median</th><th>max</th><th>nmissing</th><th>eltype</th></tr><tr><th></th><th title=\"Symbol\">Symbol</th><th title=\"Float64\">Float64</th><th title=\"Int64\">Int64</th><th title=\"Float64\">Float64</th><th title=\"Int64\">Int64</th><th title=\"Int64\">Int64</th><th title=\"DataType\">DataType</th></tr></thead><tbody><tr><th>1</th><td>MC</td><td>38.9545</td><td>0</td><td>41.5</td><td>77</td><td>0</td><td>Int64</td></tr><tr><th>2</th><td>VC</td><td>50.5909</td><td>9</td><td>51.0</td><td>82</td><td>0</td><td>Int64</td></tr><tr><th>3</th><td>LO</td><td>50.6023</td><td>15</td><td>50.0</td><td>80</td><td>0</td><td>Int64</td></tr><tr><th>4</th><td>NO</td><td>46.6818</td><td>9</td><td>49.0</td><td>70</td><td>0</td><td>Int64</td></tr><tr><th>5</th><td>SO</td><td>42.3068</td><td>9</td><td>40.0</td><td>81</td><td>0</td><td>Int64</td></tr></tbody></table></div>"
      ],
      "text/latex": [
       "\\begin{tabular}{r|ccccccc}\n",
       "\t& variable & mean & min & median & max & nmissing & eltype\\\\\n",
       "\t\\hline\n",
       "\t& Symbol & Float64 & Int64 & Float64 & Int64 & Int64 & DataType\\\\\n",
       "\t\\hline\n",
       "\t1 & MC & 38.9545 & 0 & 41.5 & 77 & 0 & Int64 \\\\\n",
       "\t2 & VC & 50.5909 & 9 & 51.0 & 82 & 0 & Int64 \\\\\n",
       "\t3 & LO & 50.6023 & 15 & 50.0 & 80 & 0 & Int64 \\\\\n",
       "\t4 & NO & 46.6818 & 9 & 49.0 & 70 & 0 & Int64 \\\\\n",
       "\t5 & SO & 42.3068 & 9 & 40.0 & 81 & 0 & Int64 \\\\\n",
       "\\end{tabular}\n"
      ],
      "text/plain": [
       "\u001b[1m5×7 DataFrame\u001b[0m\n",
       "\u001b[1m Row \u001b[0m│\u001b[1m variable \u001b[0m\u001b[1m mean    \u001b[0m\u001b[1m min   \u001b[0m\u001b[1m median  \u001b[0m\u001b[1m max   \u001b[0m\u001b[1m nmissing \u001b[0m\u001b[1m eltype   \u001b[0m\n",
       "\u001b[1m     \u001b[0m│\u001b[90m Symbol   \u001b[0m\u001b[90m Float64 \u001b[0m\u001b[90m Int64 \u001b[0m\u001b[90m Float64 \u001b[0m\u001b[90m Int64 \u001b[0m\u001b[90m Int64    \u001b[0m\u001b[90m DataType \u001b[0m\n",
       "─────┼──────────────────────────────────────────────────────────────\n",
       "   1 │ MC        38.9545      0     41.5     77         0  Int64\n",
       "   2 │ VC        50.5909      9     51.0     82         0  Int64\n",
       "   3 │ LO        50.6023     15     50.0     80         0  Int64\n",
       "   4 │ NO        46.6818      9     49.0     70         0  Int64\n",
       "   5 │ SO        42.3068      9     40.0     81         0  Int64"
      ]
     },
     "execution_count": 51,
     "metadata": {},
     "output_type": "execute_result"
    }
   ],
   "source": [
    "df = DataFrame(CSV.File(filename,delim = \" \"))\n",
    "df = df[!,Not(2,4,6,8)]\n",
    "describe(df)"
   ]
  },
  {
   "cell_type": "code",
   "execution_count": 52,
   "id": "7208c5b2",
   "metadata": {},
   "outputs": [],
   "source": [
    "nsims = 10000\n",
    "m = Array{Integer}(undef, 88, nsims)\n",
    "Random.seed!(1234)\n",
    "for i ∈ 1:1:nsims\n",
    "    m[:,i]= sample(collect(1:1:88),88, replace=true)\n",
    "end"
   ]
  },
  {
   "cell_type": "code",
   "execution_count": 53,
   "id": "3c4b87ef",
   "metadata": {},
   "outputs": [
    {
     "data": {
      "text/plain": [
       "5×1 Matrix{Float64}:\n",
       " 8.896515106e-315\n",
       " 8.897304425e-315\n",
       " 8.8964174e-315\n",
       " 0.0\n",
       " 0.0"
      ]
     },
     "execution_count": 53,
     "metadata": {},
     "output_type": "execute_result"
    }
   ],
   "source": [
    "fc = Array{Float64}(undef,5,1)\n",
    "sc = Array{Float64}(undef,5,1)"
   ]
  },
  {
   "cell_type": "code",
   "execution_count": 54,
   "id": "4deb25d2",
   "metadata": {},
   "outputs": [],
   "source": [
    "for i ∈ 1:1:nsims\n",
    "    OC = cov(Array(df[m[:,i],:]),corrected = false)\n",
    "    Sigma = eigvecs(Symmetric(OC))\n",
    "    fc = hcat(fc,Sigma[:,5])\n",
    "    sc = hcat(sc,Sigma[:,4])\n",
    "end  "
   ]
  },
  {
   "cell_type": "code",
   "execution_count": 55,
   "id": "bebe1258",
   "metadata": {},
   "outputs": [],
   "source": [
    "fc = -fc[:,Not(1)]\n",
    "sc = sc[:,Not(1)]\n",
    "fc= fc[:,findall(0 .<=fc[1,:])]\n",
    "sc= sc[:,findall(0 .<=sc[1,:])];"
   ]
  },
  {
   "cell_type": "code",
   "execution_count": 57,
   "id": "0a9bc16a",
   "metadata": {},
   "outputs": [],
   "source": [
    "OC = cov(Array(df),corrected = false)\n",
    "Sigma = eigvecs(Symmetric(OC))[:,4:5]\n",
    "Sigma \n",
    "matplotlib.style.use(\"ggplot\")"
   ]
  },
  {
   "cell_type": "code",
   "execution_count": 58,
   "id": "9cc41571",
   "metadata": {},
   "outputs": [
    {
     "data": {
      "text/plain": [
       "(0.056, 0.0416, 0.029, 0.0393, 0.0454)"
      ]
     },
     "execution_count": 58,
     "metadata": {},
     "output_type": "execute_result"
    }
   ],
   "source": [
    "pygui(true)\n",
    "fig = figure(figsize = (5,1))\n",
    "fig,(ax1,ax2,ax3,ax4,ax5) = plt.subplots(5)\n",
    "fig.suptitle(\"First Principal Component\")\n",
    "\n",
    "x = kde(fc[1,:],bandwidth = 0.05).x\n",
    "y = kde(fc[1,:],bandwidth = 0.05).density\n",
    "sd=std(fc[1,:])\n",
    "ymx = maximum(y) \n",
    "z=repeat([0.05],inner = 1,outer = length(fc[1,1:10]))\n",
    "(x1,x2) = (-Sigma[1,2]-sd, -Sigma[1,2] +sd)\n",
    "(i,j) =(maximum(findall(x.<= x1)),minimum(findall(x2.<=x))) \n",
    "ax5.plot(x,y,color = \"red\")\n",
    "ax5.fill_between(x[i:j],y[i:j],alpha = 0.2,color = \"red\")\n",
    "ax5.vlines(-Sigma[1,2],0,ymx,color = \"red\") \n",
    "ax5.set_ylabel(\"Weight 1\")\n",
    "ax5.plot(fc[1,1:10], z, \"|\", color=\"k\")\n",
    "ax5.set_xlim(-1,1)\n",
    "\n",
    "x = kde(fc[2,:],bandwidth = 0.05).x\n",
    "y = kde(fc[2,:],bandwidth = 0.05).density\n",
    "ymx = maximum(y) \n",
    "z=repeat([0.01],inner = 1,outer = length(fc[2,1:10]))\n",
    "sd=std(fc[2,:])\n",
    "(x1,x2) = (-Sigma[2,2]-sd, -Sigma[2,2] +sd)\n",
    "(i,j) =(maximum(findall(x.<= x1)),minimum(findall(x2.<=x))) \n",
    "ax4.plot(x,y,color = \"red\")\n",
    "ax4.fill_between(x[i:j],y[i:j],alpha = 0.2,color = \"red\")\n",
    "ax4.vlines(-Sigma[2,2],0,ymx,color = \"red\") \n",
    "ax4.set_ylabel(\"Weight 2\")\n",
    "ax4.plot(fc[2,1:10], z, \"|\", color=\"k\")\n",
    "ax4.get_xaxis().set_visible(false)\n",
    "ax4.set_xlim(-1,1)\n",
    "\n",
    "x = kde(fc[3,:],bandwidth = 0.05).x\n",
    "y = kde(fc[3,:],bandwidth = 0.05).density\n",
    "ymx = maximum(y) \n",
    "z=repeat([0.01],inner = 1,outer = length(fc[3,1:10]))\n",
    "sd=std(fc[3,:])\n",
    "(x1,x2) = (-Sigma[3,2]-sd, -Sigma[3,2] +sd)\n",
    "(i,j) =(maximum(findall(x.<= x1)),minimum(findall(x2.<=x))) \n",
    "ax3.plot(x,y,color = \"red\")\n",
    "ax3.fill_between(x[i:j],y[i:j],alpha = 0.2,color = \"red\")\n",
    "ax3.vlines(-Sigma[3,2],0,ymx,color = \"red\") \n",
    "ax3.set_ylabel(\"Weight 3\")\n",
    "ax3.plot(fc[3,1:10], z, \"|\", color=\"k\")\n",
    "ax3.get_xaxis().set_visible(false)\n",
    "ax3.set_xlim(-1,1)\n",
    "\n",
    "x = kde(fc[4,:],bandwidth = 0.05).x\n",
    "y = kde(fc[4,:],bandwidth = 0.05).density\n",
    "ymx = maximum(y) \n",
    "z=repeat([0.01],inner = 1,outer = length(fc[4,1:10]))\n",
    "sd=std(fc[4,:])\n",
    "(x1,x2) = (-Sigma[4,2]-sd, -Sigma[4,2] +sd)\n",
    "(i,j) =(maximum(findall(x.<= x1)),minimum(findall(x2.<=x))) \n",
    "ax2.plot(x,y,color = \"red\")\n",
    "ax2.fill_between(x[i:j],y[i:j],alpha = 0.2,color = \"red\")\n",
    "ax2.vlines(-Sigma[4,2],0,ymx,color = \"red\") \n",
    "ax2.set_ylabel(\"Weight 4\")\n",
    "ax2.plot(fc[4,1:10], z, \"|\", color=\"k\")\n",
    "ax2.get_xaxis().set_visible(false)\n",
    "ax2.set_xlim(-1,1)\n",
    "\n",
    "x = kde(fc[5,:],bandwidth = 0.05).x\n",
    "y = kde(fc[5,:],bandwidth = 0.05).density\n",
    "ymx = maximum(y) \n",
    "z=repeat([0.01],inner = 1,outer = length(fc[5,1:10]))\n",
    "sd=std(fc[5,:])\n",
    "(x1,x2) = (-Sigma[5,2]-sd, -Sigma[5,2] +sd) \n",
    "(i,j) =(maximum(findall(x.<= x1)),minimum(findall(x2.<=x))) \n",
    "ax1.plot(x,y,color = \"red\")\n",
    "ax1.fill_between(x[i:j],y[i:j],alpha = 0.2,color = \"red\")\n",
    "ax1.vlines(-Sigma[5,2],0,ymx,color = \"red\")\n",
    "ax1.set_ylabel(\"Weight 5\")\n",
    "ax1.plot(fc[5,1:10], z, \"|\", color=\"k\")\n",
    "ax1.get_xaxis().set_visible(false)\n",
    "ax1.set_xlim(-1,1);\n",
    "\n",
    "##Estim. desvest\n",
    "round.((std(fc[1,:]),std(fc[2,:]),std(fc[3,:]),std(fc[4,:]),std(fc[5,:])),digits = 4)"
   ]
  },
  {
   "cell_type": "code",
   "execution_count": 59,
   "id": "904948fd",
   "metadata": {},
   "outputs": [
    {
     "data": {
      "text/plain": [
       "(0.5, 0.3665, 0.3439, 0.4518, 0.5328)"
      ]
     },
     "execution_count": 59,
     "metadata": {},
     "output_type": "execute_result"
    }
   ],
   "source": [
    "##Estim. Puntuales\n",
    "round.((mean(fc[1,:]),mean(fc[2,:]),mean(fc[3,:]),mean(fc[4,:]),mean(fc[5,:])),digits = 4)"
   ]
  },
  {
   "cell_type": "code",
   "execution_count": 60,
   "id": "cf739195",
   "metadata": {},
   "outputs": [
    {
     "data": {
      "text/plain": [
       "5-element Vector{Float64}:\n",
       " 0.5054\n",
       " 0.3683\n",
       " 0.3457\n",
       " 0.4511\n",
       " 0.5347"
      ]
     },
     "execution_count": 60,
     "metadata": {},
     "output_type": "execute_result"
    }
   ],
   "source": [
    "##Resultados usando Sigma\n",
    "round.(-Sigma[:,2],digits = 4)"
   ]
  },
  {
   "cell_type": "code",
   "execution_count": 61,
   "id": "e1d640b7",
   "metadata": {},
   "outputs": [
    {
     "data": {
      "text/plain": [
       "(0.0767, 0.1256, 0.0631, 0.1115, 0.1151)"
      ]
     },
     "execution_count": 61,
     "metadata": {},
     "output_type": "execute_result"
    }
   ],
   "source": [
    "pygui(true)\n",
    "fig = figure(figsize = (5,1))\n",
    "fig,(ax1,ax2,ax3,ax4,ax5) = plt.subplots(5)\n",
    "fig.suptitle(\"Second Principal Component\")\n",
    "\n",
    "x = kde(sc[1,:],bandwidth = 0.1).x\n",
    "y = kde(sc[1,:],bandwidth = 0.1).density\n",
    "ymx = maximum(y) \n",
    "z=repeat([0.01],inner = 1,outer = length(-sc[1,1:10]))\n",
    "sd=std(sc[1,:])\n",
    "(x1,x2) = (Sigma[1,1]-sd, Sigma[1,1] +sd)\n",
    "(i,j) =(maximum(findall(x.<= x1)),minimum(findall(x2.<=x))) \n",
    "ax5.plot(x,y,color = \"red\")\n",
    "ax5.fill_between(x[i:j],y[i:j],alpha = 0.2,color = \"red\")\n",
    "ax5.vlines(Sigma[1,1],0,ymx,color = \"red\") \n",
    "ax5.set_ylabel(\"Weight 1\")\n",
    "ax5.plot(sc[1,1:10], z, \"|\", color=\"k\")\n",
    "ax5.set_xlim(-1.20,1.20)\n",
    "\n",
    "x = kde(sc[2,:],bandwidth = 0.1).x\n",
    "y = kde(sc[2,:],bandwidth = 0.1).density\n",
    "ymx = maximum(y) \n",
    "z=repeat([0.01],inner = 1,outer = length(sc[2,1:10]))\n",
    "sd=std(sc[2,:])\n",
    "(x1,x2) = (Sigma[2,1]-sd, Sigma[2,1] +sd)\n",
    "(i,j) =(maximum(findall(x.<= x1)),minimum(findall(x2.<=x))) \n",
    "ax4.plot(x,y,color = \"red\")\n",
    "ax4.fill_between(x[i:j],y[i:j],alpha = 0.2,color = \"red\")\n",
    "ax4.vlines(Sigma[2,1],0,ymx,color = \"red\") \n",
    "ax4.set_ylabel(\"Weight 2\")\n",
    "ax4.plot(sc[2,1:10], z, \"|\", color=\"black\")\n",
    "ax4.get_xaxis().set_visible(false)\n",
    "ax4.set_xlim(-1.20,1.20)\n",
    "\n",
    "x = kde(sc[3,:],bandwidth = 0.1).x\n",
    "y = kde(sc[3,:],bandwidth = 0.1).density\n",
    "ymx = maximum(y) \n",
    "z=repeat([0.01],inner = 1,outer = length(sc[3,1:10]))\n",
    "sd=std(sc[3,:])\n",
    "(x1,x2) = (Sigma[3,1]-sd, Sigma[3,1] +sd)\n",
    "(i,j) =(maximum(findall(x.<= x1)),minimum(findall(x2.<=x))) \n",
    "ax3.plot(x,y,color = \"red\")\n",
    "ax3.fill_between(x[i:j],y[i:j],alpha = 0.2,color = \"red\")\n",
    "ax3.set_ylabel(\"Weight 3\")\n",
    "ax3.vlines(Sigma[3,1],0,ymx,color = \"red\") \n",
    "ax3.plot(sc[3,1:10], z, \"|\", color=\"k\")\n",
    "ax3.get_xaxis().set_visible(false)\n",
    "ax3.set_xlim(-1.20,1.20)\n",
    "\n",
    "x = kde(sc[4,:],bandwidth = 0.1).x\n",
    "y = kde(sc[4,:],bandwidth = 0.1).density\n",
    "ymx = maximum(y) \n",
    "z=repeat([0.01],inner = 1,outer = length(sc[4,1:10]))\n",
    "sd=std(sc[4,:])\n",
    "(x1,x2) = (Sigma[4,1]-sd, Sigma[4,1] +sd)\n",
    "(i,j) =(maximum(findall(x.<= x1)),minimum(findall(x2.<=x))) \n",
    "ax2.plot(x,y,color = \"red\")\n",
    "ax2.fill_between(x[i:j],y[i:j],alpha = 0.2,color = \"red\")\n",
    "ax2.vlines(Sigma[4,1],0,ymx,color = \"red\") \n",
    "ax2.set_ylabel(\"Weight 4\")\n",
    "ax2.plot(sc[4,1:10], z, \"|\", color=\"k\")\n",
    "ax2.get_xaxis().set_visible(false)\n",
    "ax2.set_xlim(-1,1)\n",
    "\n",
    "x = kde(sc[5,:],bandwidth = 0.1).x\n",
    "y = kde(sc[5,:],bandwidth = 0.1).density\n",
    "ymx = maximum(y) \n",
    "z=repeat([0.01],inner = 1,outer = length(sc[5,1:10]))\n",
    "sd=std(sc[5,:])\n",
    "(x1,x2) = (Sigma[5,1]-sd, Sigma[5,1] +sd)\n",
    "(i,j) =(maximum(findall(x.<= x1)),minimum(findall(x2.<=x))) \n",
    "ax1.plot(x,y,color = \"red\")\n",
    "ax1.fill_between(x[i:j],y[i:j],alpha = 0.2,color = \"red\")\n",
    "ax1.vlines(Sigma[5,1],0,ymx,color = \"red\") \n",
    "ax1.set_ylabel(\"Weight 5\")\n",
    "ax1.plot(sc[5,1:10], z, \"|\", color=\"k\")\n",
    "ax1.get_xaxis().set_visible(false)\n",
    "ax1.set_xlim(-1.20,1.20)\n",
    "\n",
    "##Estim. desvest\n",
    "round.((std(sc[1,:]),std(sc[2,:]),std(sc[3,:]),std(sc[4,:]),std(sc[5,:])),digits = 4)"
   ]
  },
  {
   "cell_type": "code",
   "execution_count": 62,
   "id": "39f65572",
   "metadata": {},
   "outputs": [
    {
     "data": {
      "text/plain": [
       "(0.7434, 0.1918, -0.0786, -0.308, -0.5082)"
      ]
     },
     "execution_count": 62,
     "metadata": {},
     "output_type": "execute_result"
    }
   ],
   "source": [
    "##Estim. Puntuales\n",
    "round.((mean(sc[1,:]),mean(sc[2,:]),mean(sc[3,:]),mean(sc[4,:]),mean(sc[5,:])),digits = 4)"
   ]
  },
  {
   "cell_type": "code",
   "execution_count": 63,
   "id": "61b7ad46",
   "metadata": {},
   "outputs": [
    {
     "data": {
      "text/plain": [
       "5-element Vector{Float64}:\n",
       "  0.7487\n",
       "  0.2074\n",
       " -0.0759\n",
       " -0.3009\n",
       " -0.5478"
      ]
     },
     "execution_count": 63,
     "metadata": {},
     "output_type": "execute_result"
    }
   ],
   "source": [
    "##Resultados usando Sigma\n",
    "round.(Sigma[:,1],digits = 4)"
   ]
  },
  {
   "cell_type": "markdown",
   "id": "90fc6a23",
   "metadata": {},
   "source": [
    "Intervalos de confianza por cuantiles bootstraap al 95% de confianza. "
   ]
  },
  {
   "cell_type": "code",
   "execution_count": 49,
   "id": "b0ef544e",
   "metadata": {},
   "outputs": [
    {
     "data": {
      "text/html": [
       "<div class=\"data-frame\"><p>1 rows × 5 columns (omitted printing of 1 columns)</p><table class=\"data-frame\"><thead><tr><th></th><th>x1</th><th>x2</th><th>x3</th><th>x4</th></tr><tr><th></th><th title=\"Tuple{Float64, Float64}\">Tuple…</th><th title=\"Tuple{Float64, Float64}\">Tuple…</th><th title=\"Tuple{Float64, Float64}\">Tuple…</th><th title=\"Tuple{Float64, Float64}\">Tuple…</th></tr></thead><tbody><tr><th>1</th><td>(0.37496, 0.594873)</td><td>(0.284541, 0.447428)</td><td>(0.285704, 0.399406)</td><td>(0.377123, 0.532744)</td></tr></tbody></table></div>"
      ],
      "text/latex": [
       "\\begin{tabular}{r|ccccc}\n",
       "\t& x1 & x2 & x3 & x4 & \\\\\n",
       "\t\\hline\n",
       "\t& Tuple… & Tuple… & Tuple… & Tuple… & \\\\\n",
       "\t\\hline\n",
       "\t1 & (0.37496, 0.594873) & (0.284541, 0.447428) & (0.285704, 0.399406) & (0.377123, 0.532744) & $\\dots$ \\\\\n",
       "\\end{tabular}\n"
      ],
      "text/plain": [
       "\u001b[1m1×5 DataFrame\u001b[0m\n",
       "\u001b[1m Row \u001b[0m│\u001b[1m x1                  \u001b[0m\u001b[1m x2                   \u001b[0m\u001b[1m x3                   \u001b[0m\u001b[1m x4    \u001b[0m ⋯\n",
       "\u001b[1m     \u001b[0m│\u001b[90m Tuple…              \u001b[0m\u001b[90m Tuple…               \u001b[0m\u001b[90m Tuple…               \u001b[0m\u001b[90m Tuple…\u001b[0m ⋯\n",
       "─────┼──────────────────────────────────────────────────────────────────────────\n",
       "   1 │ (0.37496, 0.594873)  (0.284541, 0.447428)  (0.285704, 0.399406)  (0.377 ⋯\n",
       "\u001b[36m                                                               2 columns omitted\u001b[0m"
      ]
     },
     "execution_count": 49,
     "metadata": {},
     "output_type": "execute_result"
    }
   ],
   "source": [
    "####Componente 1\n",
    "InT = DataFrame(hcat(quantile(fc[1,:] , (0.025,0.975) ),\n",
    "                 quantile(fc[2,:] , (0.025,0.975) ),\n",
    "                 quantile(fc[3,:] , (0.025,0.975)),\n",
    "                 quantile(fc[4,:] , (0.025,0.975)),\n",
    "                 quantile(fc[5,:] , (0.025,0.975))),:auto)"
   ]
  },
  {
   "cell_type": "code",
   "execution_count": 50,
   "id": "4c77fde2",
   "metadata": {},
   "outputs": [
    {
     "data": {
      "text/html": [
       "<div class=\"data-frame\"><p>1 rows × 5 columns (omitted printing of 1 columns)</p><table class=\"data-frame\"><thead><tr><th></th><th>x1</th><th>x2</th><th>x3</th><th>x4</th></tr><tr><th></th><th title=\"Tuple{Float64, Float64}\">Tuple…</th><th title=\"Tuple{Float64, Float64}\">Tuple…</th><th title=\"Tuple{Float64, Float64}\">Tuple…</th><th title=\"Tuple{Float64, Float64}\">Tuple…</th></tr></thead><tbody><tr><th>1</th><td>(0.569716, 0.862662)</td><td>(-0.068932, 0.427744)</td><td>(-0.204814, 0.0440525)</td><td>(-0.542511, -0.108756)</td></tr></tbody></table></div>"
      ],
      "text/latex": [
       "\\begin{tabular}{r|ccccc}\n",
       "\t& x1 & x2 & x3 & x4 & \\\\\n",
       "\t\\hline\n",
       "\t& Tuple… & Tuple… & Tuple… & Tuple… & \\\\\n",
       "\t\\hline\n",
       "\t1 & (0.569716, 0.862662) & (-0.068932, 0.427744) & (-0.204814, 0.0440525) & (-0.542511, -0.108756) & $\\dots$ \\\\\n",
       "\\end{tabular}\n"
      ],
      "text/plain": [
       "\u001b[1m1×5 DataFrame\u001b[0m\n",
       "\u001b[1m Row \u001b[0m│\u001b[1m x1                   \u001b[0m\u001b[1m x2                    \u001b[0m\u001b[1m x3                     \u001b[0m\u001b[1m x4\u001b[0m ⋯\n",
       "\u001b[1m     \u001b[0m│\u001b[90m Tuple…               \u001b[0m\u001b[90m Tuple…                \u001b[0m\u001b[90m Tuple…                 \u001b[0m\u001b[90m Tu\u001b[0m ⋯\n",
       "─────┼──────────────────────────────────────────────────────────────────────────\n",
       "   1 │ (0.569716, 0.862662)  (-0.068932, 0.427744)  (-0.204814, 0.0440525)  (- ⋯\n",
       "\u001b[36m                                                               2 columns omitted\u001b[0m"
      ]
     },
     "execution_count": 50,
     "metadata": {},
     "output_type": "execute_result"
    }
   ],
   "source": [
    "####Componente 2\n",
    "InT = DataFrame(hcat(quantile(sc[1,:] , (0.025,0.975) ),\n",
    "                 quantile(sc[2,:] , (0.025,0.975) ),\n",
    "                 quantile(sc[3,:] , (0.025,0.975)),\n",
    "                 quantile(sc[4,:] , (0.025,0.975)),\n",
    "                 quantile(sc[5,:] , (0.025,0.975))),:auto)"
   ]
  },
  {
   "cell_type": "code",
   "execution_count": null,
   "id": "c500f4ed",
   "metadata": {},
   "outputs": [],
   "source": []
  }
 ],
 "metadata": {
  "kernelspec": {
   "display_name": "Julia 1.6.3",
   "language": "julia",
   "name": "julia-1.6"
  },
  "language_info": {
   "file_extension": ".jl",
   "mimetype": "application/julia",
   "name": "julia",
   "version": "1.6.3"
  }
 },
 "nbformat": 4,
 "nbformat_minor": 5
}
